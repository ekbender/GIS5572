{
 "cells": [
  {
   "cell_type": "code",
   "execution_count": 21,
   "metadata": {},
   "outputs": [],
   "source": [
    "import arcpy"
   ]
  },
  {
   "cell_type": "code",
   "execution_count": 22,
   "metadata": {},
   "outputs": [
    {
     "data": {
      "text/html": [
       "<div class='gpresult'><h2>Messages</h2><div id='messages'>Start Time: Thursday, February 20, 2025 6:17:23 PM<br>Succeeded at Thursday, February 20, 2025 6:17:29 PM (Elapsed Time: 6.11 seconds)<br></div><div id = 'default' /></div></div>"
      ],
      "text/plain": [
       "<Result 'C:\\\\Users\\\\bende287\\\\Documents\\\\ArcGIS\\\\Projects\\\\5572\\\\5572.gdb\\\\poly'>"
      ]
     },
     "execution_count": 22,
     "metadata": {},
     "output_type": "execute_result"
    }
   ],
   "source": [
    "arcpy.management.CreateFeatureclass(\n",
    "    out_path=r\"C:\\Users\\bende287\\Documents\\ArcGIS\\Projects\\5572\\5572.gdb\",\n",
    "    out_name=\"poly\",\n",
    "    geometry_type=\"POLYGON\",\n",
    "    template=None,\n",
    "    has_m=\"DISABLED\",\n",
    "    has_z=\"DISABLED\",\n",
    "    spatial_reference=4326\n",
    "    \n",
    ")"
   ]
  },
  {
   "cell_type": "code",
   "execution_count": 23,
   "metadata": {},
   "outputs": [
    {
     "data": {
      "text/plain": [
       "1"
      ]
     },
     "execution_count": 23,
     "metadata": {},
     "output_type": "execute_result"
    }
   ],
   "source": [
    "cursor = arcpy.da.InsertCursor(r'C:\\Users\\bende287\\Documents\\ArcGIS\\Projects\\5572\\5572.gdb\\poly', [\"SHAPE@\"])\n",
    "array = arcpy.Array(\n",
    "    [arcpy.Point(-77.4349451, 37.5408265), arcpy.Point(-78.6384349, 35.7780943), arcpy.Point(-78.6384349, 37.5408265)]\n",
    ")\n",
    "spatial_reference = arcpy.SpatialReference(4326)\n",
    "polygon = arcpy.Polygon(array, spatial_reference)\n",
    "\n",
    "cursor.insertRow([polygon])"
   ]
  },
  {
   "cell_type": "code",
   "execution_count": 24,
   "metadata": {},
   "outputs": [],
   "source": [
    "del cursor"
   ]
  },
  {
   "cell_type": "code",
   "execution_count": 25,
   "metadata": {},
   "outputs": [
    {
     "data": {
      "text/html": [
       "<div class='gpresult'><h2>Messages</h2><div id='messages'>Start Time: Thursday, February 20, 2025 6:22:25 PM<br>Succeeded at Thursday, February 20, 2025 6:22:38 PM (Elapsed Time: 13.30 seconds)<br></div><div id = 'default' /></div></div>"
      ],
      "text/plain": [
       "<Result 'C:\\\\Users\\\\bende287\\\\Documents\\\\ArcGIS\\\\Projects\\\\5572\\\\PostgreSQL-104-lab0(postgres).sde\\\\lab0.postgres.poly2'>"
      ]
     },
     "execution_count": 25,
     "metadata": {},
     "output_type": "execute_result"
    }
   ],
   "source": [
    "arcpy.conversion.ExportFeatures(\n",
    "    in_features=\"poly\",\n",
    "    out_features=r\"C:\\Users\\bende287\\Documents\\ArcGIS\\Projects\\5572\\PostgreSQL-104-lab0(postgres).sde\\lab0.postgres.poly2\",\n",
    "    where_clause=\"\",\n",
    "    use_field_alias_as_name=\"NOT_USE_ALIAS\",\n",
    "    field_mapping='Shape_Length \"Shape_Length\" false true true 8 Double 0 0,First,#,poly,Shape_Length,-1,-1;Shape_Area \"Shape_Area\" false true true 8 Double 0 0,First,#,poly,Shape_Area,-1,-1',\n",
    "    sort_field=None\n",
    ")"
   ]
  }
 ],
 "metadata": {
  "kernelspec": {
   "display_name": "ArcGISPro",
   "language": "Python",
   "name": "python3"
  },
  "language_info": {
   "file_extension": ".py",
   "name": "python",
   "version": "3"
  }
 },
 "nbformat": 4,
 "nbformat_minor": 2
}
