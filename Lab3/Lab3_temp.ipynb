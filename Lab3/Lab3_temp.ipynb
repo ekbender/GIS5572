{
 "cells": [
  {
   "cell_type": "code",
   "execution_count": 2,
   "metadata": {},
   "outputs": [],
   "source": [
    "import os\n",
    "import arcpy"
   ]
  },
  {
   "cell_type": "code",
   "execution_count": 3,
   "metadata": {},
   "outputs": [],
   "source": [
    "directory = r\"C:\\Users\\14148\\OneDrive\\Documents\\ArcGIS\\Projects\\Lab3\\Lab3.gdb\""
   ]
  },
  {
   "cell_type": "code",
   "execution_count": 8,
   "metadata": {},
   "outputs": [
    {
     "data": {
      "text/html": [
       "<div class='gpresult'><h2 class='msg-title'>Messages</h2><div id='messages'>Start Time: Friday, April 18, 2025 1:05:20 PM<br>Succeeded at Friday, April 18, 2025 1:05:22 PM (Elapsed Time: 2.34 seconds)<br></div><div id = 'default' /></div></div>"
      ],
      "text/plain": [
       "<Result 'C:\\\\Users\\\\14148\\\\OneDrive\\\\Documents\\\\ArcGIS\\\\Projects\\\\Lab3\\\\Lab3.gdb\\\\cdd_XYTableToPoint'>"
      ]
     },
     "execution_count": 8,
     "metadata": {},
     "output_type": "execute_result"
    }
   ],
   "source": [
    "arcpy.management.XYTableToPoint(\n",
    "    in_table=\"cdd.csv\",\n",
    "    out_feature_class=r\"C:\\Users\\14148\\OneDrive\\Documents\\ArcGIS\\Projects\\Lab3\\Lab3.gdb\\cdd_XYTableToPoint\",\n",
    "    x_field=\"Longitude\",\n",
    "    y_field=\"Latitude\",\n",
    "    z_field=None,\n",
    "    coordinate_system='GEOGCS[\"GCS_WGS_1984\",DATUM[\"D_WGS_1984\",SPHEROID[\"WGS_1984\",6378137.0,298.257223563]],PRIMEM[\"Greenwich\",0.0],UNIT[\"Degree\",0.0174532925199433]];-400 -400 1000000000;-100000 10000;-100000 10000;8.98315284119521E-09;0.001;0.001;IsHighPrecision'\n",
    ")"
   ]
  },
  {
   "cell_type": "code",
   "execution_count": 9,
   "metadata": {},
   "outputs": [
    {
     "data": {
      "text/html": [
       "<div class='gpresult'><h2 class='msg-title'>Messages</h2><div id='messages'>Start Time: Friday, April 18, 2025 1:05:25 PM<br>Adding Max to cdd_XYTableToPoint...<br>Succeeded at Friday, April 18, 2025 1:05:25 PM (Elapsed Time: 0.50 seconds)<br></div><div id = 'default' /></div></div>"
      ],
      "text/plain": [
       "<Result 'cdd_XYTableToPoint'>"
      ]
     },
     "execution_count": 9,
     "metadata": {},
     "output_type": "execute_result"
    }
   ],
   "source": [
    "arcpy.management.CalculateField(\n",
    "    in_table=\"cdd_XYTableToPoint\",\n",
    "    field=\"Max\",\n",
    "    expression=\"MaximumValue(!January!,!February!,!March!,!April!,!May!,!June!,!July!,!August!,!September!,!October!,!November!,!December!)\",\n",
    "    expression_type=\"PYTHON3\",\n",
    "    code_block=\"\"\"# Return the maximum value for one or more fields\n",
    "# More calculator examples at esriurl.com/CalculatorExamples\n",
    "def MaximumValue(*args):\n",
    "    return max(args)\"\"\",\n",
    "    field_type=\"DOUBLE\",\n",
    "    enforce_domains=\"NO_ENFORCE_DOMAINS\"\n",
    ")"
   ]
  },
  {
   "cell_type": "code",
   "execution_count": 10,
   "metadata": {},
   "outputs": [
    {
     "data": {
      "text/html": [
       "<div class='gpresult'><h2 class='msg-title'>Messages</h2><div id='messages'>Start Time: Friday, April 18, 2025 1:05:29 PM<br>Calculating Ordinary Kriging – Default<br>Calculating Ordinary Kriging – Optimized<br>Calculating Universal Kriging – Default<br>Calculating Universal Kriging – Optimized<br>Calculating Inverse Distance Weighted - Default<br>Calculating Inverse Distance Weighted - Optimized<br> \\n<br>--------------------------------------------<br>RANK | NAME<br>--------------------------------------------<br>\\n<br>1    | Ordinary Kriging – Optimized<br>\\n<br>2    | Universal Kriging – Optimized<br>\\n<br>3    | Universal Kriging – Default<br>\\n<br>4    | Inverse Distance Weighted - Optimized<br>\\n<br>5    | Inverse Distance Weighted - Default<br>\\n<br>6    | Ordinary Kriging – Default<br>--------------------------------------------<br>Succeeded at Friday, April 18, 2025 1:05:33 PM (Elapsed Time: 3.11 seconds)<br></div><div id = 'default' /></div></div>"
      ],
      "text/plain": [
       "<Result 'C:\\\\Users\\\\14148\\\\OneDrive\\\\Documents\\\\ArcGIS\\\\Projects\\\\Lab3\\\\Lab3.gdb\\\\ExploratoryInterpolation_temp'>"
      ]
     },
     "execution_count": 10,
     "metadata": {},
     "output_type": "execute_result"
    }
   ],
   "source": [
    "arcpy.ga.ExploratoryInterpolation(\n",
    "    in_features=\"cdd_XYTableToPoint\",\n",
    "    value_field=\"Max\",\n",
    "    out_cv_table=r\"C:\\Users\\14148\\OneDrive\\Documents\\ArcGIS\\Projects\\Lab3\\Lab3.gdb\\ExploratoryInterpolation_temp\",\n",
    "    out_geostat_layer=\"best_interp_temp\",\n",
    "    interp_methods=\"ORDINARY_KRIGING;UNIVERSAL_KRIGING;IDW\",\n",
    "    comparison_method=\"SINGLE\",\n",
    "    criterion=\"ACCURACY\",\n",
    "    criteria_hierarchy=\"ACCURACY PERCENT #\",\n",
    "    weighted_criteria=\"ACCURACY 1\",\n",
    "    exclusion_criteria=None\n",
    ")"
   ]
  },
  {
   "cell_type": "code",
   "execution_count": 11,
   "metadata": {},
   "outputs": [
    {
     "data": {
      "text/html": [
       "<div class='gpresult'><h2 class='msg-title'>Messages</h2><div id='messages'>Start Time: Friday, April 18, 2025 1:07:07 PM<br>Succeeded at Friday, April 18, 2025 1:07:08 PM (Elapsed Time: 0.94 seconds)<br></div><div id = 'default' /></div></div>"
      ],
      "text/plain": [
       "<Result 'C:\\\\Users\\\\14148\\\\OneDrive\\\\Documents\\\\ArcGIS\\\\Projects\\\\Lab3\\\\Lab3.gdb\\\\temp_accuracy'>"
      ]
     },
     "execution_count": 11,
     "metadata": {},
     "output_type": "execute_result"
    }
   ],
   "source": [
    "arcpy.ga.GALayerToPoints(\n",
    "    in_geostat_layer=\"best_interp_temp\",\n",
    "    in_locations=\"cdd_XYTableToPoint\",\n",
    "    z_field=\"Max\",\n",
    "    out_feature_class=r\"C:\\Users\\14148\\OneDrive\\Documents\\ArcGIS\\Projects\\Lab3\\Lab3.gdb\\temp_accuracy\",\n",
    "    append_all_fields=\"ALL\",\n",
    "    elevation_field=\"Max\",\n",
    "    elevation_units=\"METER\"\n",
    ")"
   ]
  },
  {
   "cell_type": "code",
   "execution_count": null,
   "metadata": {},
   "outputs": [],
   "source": []
  }
 ],
 "metadata": {
  "kernelspec": {
   "display_name": "ArcGISPro",
   "language": "python",
   "name": "python3"
  },
  "language_info": {
   "file_extension": ".py",
   "mimetype": "text/x-python",
   "name": "python",
   "version": "3.11.10"
  }
 },
 "nbformat": 4,
 "nbformat_minor": 4
}
