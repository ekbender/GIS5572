{
 "cells": [
  {
   "cell_type": "code",
   "execution_count": 6,
   "metadata": {},
   "outputs": [],
   "source": [
    "import os\n",
    "import "
   ]
  },
  {
   "cell_type": "code",
   "execution_count": 7,
   "metadata": {},
   "outputs": [],
   "source": [
    "directory = r\"C:\\Users\\14148\\OneDrive\\Documents\\ArcGIS\\Projects\\Lab3\\Lab3.gdb\""
   ]
  },
  {
   "cell_type": "code",
   "execution_count": 8,
   "metadata": {},
   "outputs": [
    {
     "data": {
      "text/html": [
       "<div class='gpresult'><h2 class='msg-title'>Messages</h2><div id='messages'>Start Time: Thursday, April 17, 2025 1:16:16 PM<br>Successfully converted:  digital_elevation_model_30m To C:\\\\Users\\\\14148\\\\OneDrive\\\\Documents\\\\ArcGIS\\\\Projects\\\\Lab3\\\\Lab3.gdb\\\\digital_elevation_model_30m<br>Succeeded at Thursday, April 17, 2025 1:16:43 PM (Elapsed Time: 26.47 seconds)<br></div><div id = 'default' /></div></div>"
      ],
      "text/plain": [
       "<Result '\\\\\\\\'>"
      ]
     },
     "execution_count": 8,
     "metadata": {},
     "output_type": "execute_result"
    }
   ],
   "source": [
    "arcpy.conversion.RasterToGeodatabase(\n",
    "    Input_Rasters=\"digital_elevation_model_30m\",\n",
    "    Output_Geodatabase=r\"C:\\Users\\14148\\OneDrive\\Documents\\ArcGIS\\Projects\\Lab3\\Lab3.gdb\",\n",
    "    Configuration_Keyword=\"\"\n",
    ")"
   ]
  },
  {
   "cell_type": "code",
   "execution_count": 9,
   "metadata": {},
   "outputs": [
    {
     "data": {
      "text/html": [
       "<div class='gpresult'><h2 class='msg-title'>Messages</h2><div id='messages'>Start Time: Thursday, April 17, 2025 1:17:19 PM<br>Building Pyramids...<br>Succeeded at Thursday, April 17, 2025 1:17:23 PM (Elapsed Time: 4.21 seconds)<br></div><div id = 'default' /></div></div>"
      ],
      "text/plain": [
       "<Result 'C:\\\\Users\\\\14148\\\\OneDrive\\\\Documents\\\\ArcGIS\\\\Projects\\\\Lab3\\\\Lab3.gdb\\\\digital_elevation_m_Resample'>"
      ]
     },
     "execution_count": 9,
     "metadata": {},
     "output_type": "execute_result"
    }
   ],
   "source": [
    "arcpy.management.Resample(\n",
    "    in_raster=r\"C:\\Users\\14148\\OneDrive\\Documents\\ArcGIS\\Projects\\Lab3\\Lab3.gdb\\digital_elevation_model_30m\",\n",
    "    out_raster=r\"C:\\Users\\14148\\OneDrive\\Documents\\ArcGIS\\Projects\\Lab3\\Lab3.gdb\\digital_elevation_m_Resample\",\n",
    "    cell_size=\"10000 10000\",\n",
    "    resampling_type=\"NEAREST\"\n",
    ")"
   ]
  },
  {
   "cell_type": "code",
   "execution_count": 10,
   "metadata": {},
   "outputs": [
    {
     "data": {
      "text/html": [
       "<div class='gpresult'><h2 class='msg-title'>Messages</h2><div id='messages'>Start Time: Thursday, April 17, 2025 1:18:23 PM<br>Succeeded at Thursday, April 17, 2025 1:18:24 PM (Elapsed Time: 1.03 seconds)<br></div><div id = 'default' /></div></div>"
      ],
      "text/plain": [
       "<Result 'C:\\\\Users\\\\14148\\\\OneDrive\\\\Documents\\\\ArcGIS\\\\Projects\\\\Lab3\\\\Lab3.gdb\\\\dem_points'>"
      ]
     },
     "execution_count": 10,
     "metadata": {},
     "output_type": "execute_result"
    }
   ],
   "source": [
    "arcpy.conversion.RasterToPoint(\n",
    "    in_raster=\"digital_elevation_m_Resample\",\n",
    "    out_point_features=r\"C:\\Users\\14148\\OneDrive\\Documents\\ArcGIS\\Projects\\Lab3\\Lab3.gdb\\dem_points\",\n",
    "    raster_field=\"Value\"\n",
    ")"
   ]
  },
  {
   "cell_type": "code",
   "execution_count": 13,
   "metadata": {},
   "outputs": [
    {
     "data": {
      "text/html": [
       "<div class='gpresult'><h2 class='msg-title'>Messages</h2><div id='messages'>Start Time: Thursday, April 17, 2025 1:21:43 PM<br>Calculating Ordinary Kriging – Default<br>Calculating Ordinary Kriging – Optimized<br>Calculating Universal Kriging – Default<br>Calculating Universal Kriging – Optimized<br>Calculating Inverse Distance Weighted - Default<br>Calculating Inverse Distance Weighted - Optimized<br> \\n<br>--------------------------------------------<br>RANK | NAME<br>--------------------------------------------<br>\\n<br>1    | Universal Kriging – Optimized<br>\\n<br>2    | Universal Kriging – Default<br>\\n<br>3    | Ordinary Kriging – Optimized<br>\\n<br>4    | Ordinary Kriging – Default<br>\\n<br>5    | Inverse Distance Weighted - Optimized<br>\\n<br>6    | Inverse Distance Weighted - Default<br>--------------------------------------------<br>Succeeded at Thursday, April 17, 2025 1:21:47 PM (Elapsed Time: 3.67 seconds)<br></div><div id = 'default' /></div></div>"
      ],
      "text/plain": [
       "<Result 'C:\\\\Users\\\\14148\\\\OneDrive\\\\Documents\\\\ArcGIS\\\\Projects\\\\Lab3\\\\Lab3.gdb\\\\ExploratoryInterpolation_dem'>"
      ]
     },
     "execution_count": 13,
     "metadata": {},
     "output_type": "execute_result"
    }
   ],
   "source": [
    "arcpy.ga.ExploratoryInterpolation(\n",
    "    in_features=\"dem_points\",\n",
    "    value_field=\"grid_code\",\n",
    "    out_cv_table=r\"C:\\Users\\14148\\OneDrive\\Documents\\ArcGIS\\Projects\\Lab3\\Lab3.gdb\\ExploratoryInterpolation_dem\",\n",
    "    out_geostat_layer=\"best_interpolator_dem\",\n",
    "    interp_methods=\"ORDINARY_KRIGING;UNIVERSAL_KRIGING;IDW\",\n",
    "    comparison_method=\"SINGLE\",\n",
    "    criterion=\"ACCURACY\",\n",
    "    criteria_hierarchy=\"ACCURACY PERCENT #\",\n",
    "    weighted_criteria=\"ACCURACY 1\",\n",
    "    exclusion_criteria=None\n",
    ")"
   ]
  },
  {
   "cell_type": "code",
   "execution_count": 14,
   "metadata": {},
   "outputs": [
    {
     "data": {
      "text/html": [
       "<div class='gpresult'><h2 class='msg-title'>Messages</h2><div id='messages'>Start Time: Thursday, April 17, 2025 1:22:29 PM<br>Succeeded at Thursday, April 17, 2025 1:22:30 PM (Elapsed Time: 0.99 seconds)<br></div><div id = 'default' /></div></div>"
      ],
      "text/plain": [
       "<Result 'C:\\\\Users\\\\14148\\\\OneDrive\\\\Documents\\\\ArcGIS\\\\Projects\\\\Lab3\\\\Lab3.gdb\\\\dem_pointaccuracy'>"
      ]
     },
     "execution_count": 14,
     "metadata": {},
     "output_type": "execute_result"
    }
   ],
   "source": [
    "arcpy.ga.GALayerToPoints(\n",
    "    in_geostat_layer=\"best_interpolator_dem\",\n",
    "    in_locations=\"dem_points\",\n",
    "    z_field=\"grid_code\",\n",
    "    out_feature_class=r\"C:\\Users\\14148\\OneDrive\\Documents\\ArcGIS\\Projects\\Lab3\\Lab3.gdb\\dem_pointaccuracy\",\n",
    "    append_all_fields=\"ALL\",\n",
    "    elevation_field=\"pointid\",\n",
    "    elevation_units=\"METER\"\n",
    ")"
   ]
  },
  {
   "cell_type": "code",
   "execution_count": null,
   "metadata": {},
   "outputs": [],
   "source": []
  }
 ],
 "metadata": {
  "kernelspec": {
   "display_name": "ArcGISPro",
   "language": "python",
   "name": "python3"
  },
  "language_info": {
   "file_extension": ".py",
   "mimetype": "text/x-python",
   "name": "python",
   "version": "3.11.10"
  }
 },
 "nbformat": 4,
 "nbformat_minor": 4
}
